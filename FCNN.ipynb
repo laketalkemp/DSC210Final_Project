{
  "cells": [
    {
      "cell_type": "markdown",
      "metadata": {
        "id": "yHcX7RJUcTtB"
      },
      "source": [
        "# Imports and Dependencies"
      ]
    },
    {
      "cell_type": "code",
      "execution_count": null,
      "metadata": {
        "colab": {
          "base_uri": "https://localhost:8080/"
        },
        "id": "TB13OYGQjnTA",
        "outputId": "678f41c6-dd78-4781-82a7-a7b2e935ab6c"
      },
      "outputs": [
        {
          "output_type": "stream",
          "name": "stdout",
          "text": [
            "Collecting ucimlrepo\n",
            "  Downloading ucimlrepo-0.0.7-py3-none-any.whl.metadata (5.5 kB)\n",
            "Requirement already satisfied: pandas>=1.0.0 in /usr/local/lib/python3.10/dist-packages (from ucimlrepo) (2.2.2)\n",
            "Requirement already satisfied: certifi>=2020.12.5 in /usr/local/lib/python3.10/dist-packages (from ucimlrepo) (2024.8.30)\n",
            "Requirement already satisfied: numpy>=1.22.4 in /usr/local/lib/python3.10/dist-packages (from pandas>=1.0.0->ucimlrepo) (1.26.4)\n",
            "Requirement already satisfied: python-dateutil>=2.8.2 in /usr/local/lib/python3.10/dist-packages (from pandas>=1.0.0->ucimlrepo) (2.8.2)\n",
            "Requirement already satisfied: pytz>=2020.1 in /usr/local/lib/python3.10/dist-packages (from pandas>=1.0.0->ucimlrepo) (2024.2)\n",
            "Requirement already satisfied: tzdata>=2022.7 in /usr/local/lib/python3.10/dist-packages (from pandas>=1.0.0->ucimlrepo) (2024.2)\n",
            "Requirement already satisfied: six>=1.5 in /usr/local/lib/python3.10/dist-packages (from python-dateutil>=2.8.2->pandas>=1.0.0->ucimlrepo) (1.16.0)\n",
            "Downloading ucimlrepo-0.0.7-py3-none-any.whl (8.0 kB)\n",
            "Installing collected packages: ucimlrepo\n",
            "Successfully installed ucimlrepo-0.0.7\n"
          ]
        }
      ],
      "source": [
        "!pip install ucimlrepo"
      ]
    },
    {
      "cell_type": "code",
      "execution_count": null,
      "metadata": {
        "id": "xoRBpY17kUdP"
      },
      "outputs": [],
      "source": [
        "# imports\n",
        "from ucimlrepo import fetch_ucirepo\n",
        "import numpy as np\n",
        "import matplotlib.pyplot as plt\n",
        "import pandas as pd\n",
        "import seaborn as sns\n",
        "import random\n",
        "\n",
        "# Let's make sure pandas returns all the rows and columns for the dataframe\n",
        "pd.set_option('display.max_rows', None)\n",
        "pd.set_option('display.max_columns', None)\n",
        "\n",
        "# Set seaborn themes\n",
        "import seaborn as sns\n",
        "sns.set_theme(style='white')\n",
        "sns.color_palette(\"mako\", as_cmap=True)\n",
        "\n",
        "import torch\n",
        "import torch.nn as nn\n",
        "import torch.optim as optim\n",
        "import torch.utils.data as data_utils\n",
        "from torch.utils.data import Dataset, DataLoader, SubsetRandomSampler, WeightedRandomSampler\n",
        "\n",
        "from sklearn.preprocessing import StandardScaler\n",
        "from sklearn.model_selection import train_test_split\n",
        "from sklearn.metrics import classification_report\n",
        "from sklearn.feature_selection import mutual_info_classif\n",
        "from sklearn.metrics import roc_auc_score\n",
        "from sklearn.metrics import RocCurveDisplay\n",
        "\n",
        "from tqdm import tqdm\n",
        "#import torchsnooper  # remove before final submission"
      ]
    },
    {
      "cell_type": "code",
      "source": [
        "# seeds for reproducibility (hopefully)\n",
        "torch.manual_seed(42)\n",
        "random.seed(42)\n",
        "np.random.seed(42)"
      ],
      "metadata": {
        "id": "lfQY3HzsYMa7"
      },
      "execution_count": null,
      "outputs": []
    },
    {
      "cell_type": "markdown",
      "metadata": {
        "id": "CsRTyWUHcYM4"
      },
      "source": [
        "# Data Collection"
      ]
    },
    {
      "cell_type": "code",
      "execution_count": null,
      "metadata": {
        "collapsed": true,
        "id": "FgzQcBiDkdOo"
      },
      "outputs": [],
      "source": [
        "# fetching data from UCI ML repository\n",
        "\n",
        "# fetch dataset\n",
        "default_of_credit_card_clients = fetch_ucirepo(id=350)\n",
        "\n",
        "# data (as pandas dataframes)\n",
        "X = default_of_credit_card_clients.data.features\n",
        "y = default_of_credit_card_clients.data.targets  # default payment (Yes = 1, No = 0)\n",
        "\n",
        "# metadata\n",
        "print(default_of_credit_card_clients.metadata)\n",
        "\n",
        "# variable information\n",
        "print(default_of_credit_card_clients.variables)"
      ]
    },
    {
      "cell_type": "code",
      "execution_count": null,
      "metadata": {
        "colab": {
          "base_uri": "https://localhost:8080/",
          "height": 178
        },
        "id": "WXSRM8XvcqcT",
        "outputId": "fe680f75-37eb-45d3-82c9-b183583f8297"
      },
      "outputs": [
        {
          "output_type": "execute_result",
          "data": {
            "text/plain": [
              "Y\n",
              "0    23364\n",
              "1     6636\n",
              "Name: count, dtype: int64"
            ],
            "text/html": [
              "<div>\n",
              "<style scoped>\n",
              "    .dataframe tbody tr th:only-of-type {\n",
              "        vertical-align: middle;\n",
              "    }\n",
              "\n",
              "    .dataframe tbody tr th {\n",
              "        vertical-align: top;\n",
              "    }\n",
              "\n",
              "    .dataframe thead th {\n",
              "        text-align: right;\n",
              "    }\n",
              "</style>\n",
              "<table border=\"1\" class=\"dataframe\">\n",
              "  <thead>\n",
              "    <tr style=\"text-align: right;\">\n",
              "      <th></th>\n",
              "      <th>count</th>\n",
              "    </tr>\n",
              "    <tr>\n",
              "      <th>Y</th>\n",
              "      <th></th>\n",
              "    </tr>\n",
              "  </thead>\n",
              "  <tbody>\n",
              "    <tr>\n",
              "      <th>0</th>\n",
              "      <td>23364</td>\n",
              "    </tr>\n",
              "    <tr>\n",
              "      <th>1</th>\n",
              "      <td>6636</td>\n",
              "    </tr>\n",
              "  </tbody>\n",
              "</table>\n",
              "</div><br><label><b>dtype:</b> int64</label>"
            ]
          },
          "metadata": {},
          "execution_count": 6
        }
      ],
      "source": [
        "# class imbalance\n",
        "y.value_counts()"
      ]
    },
    {
      "cell_type": "markdown",
      "metadata": {
        "id": "1K7yIpOmcckc"
      },
      "source": [
        "# Feature Selection and Engineering"
      ]
    },
    {
      "cell_type": "code",
      "execution_count": null,
      "metadata": {
        "id": "fS_lvcGxXlQ1"
      },
      "outputs": [],
      "source": [
        "categorical_features = {\n",
        "        'X2': 'SEX',        # gender\n",
        "        'X3': 'EDUCATION',  # edu\n",
        "        'X4': 'MARRIAGE'    # marital status\n",
        "    }\n",
        "\n",
        "# scale numerical features\n",
        "numerical_features = [\n",
        "'X1',  # LIMIT_BAL\n",
        "'X5'   # AGE\n",
        "]\n",
        "\n",
        "# payment history features; X6-X11 (already encoded but explicit for documentation)\n",
        "payment_history = [f'X{i}' for i in range(6, 12)]\n",
        "\n",
        "# bill amounts; cols X12-X17\n",
        "bill_amounts = [f'X{i}' for i in range(12, 18)]\n",
        "\n",
        "# payment amounts; cols X18-X23\n",
        "payment_amounts = [f'X{i}' for i in range(18, 24)]\n",
        "\n",
        "# combine all numerical features\n",
        "all_numerical = numerical_features + bill_amounts + payment_amounts\n",
        "\n",
        "# Flatten to prevent DataConversionWarning\n",
        "y = np.ravel(y)\n",
        "X_train, X_test, y_train, y_test = train_test_split(X, y, test_size=0.2, random_state=42)\n",
        "\n",
        "X_train_processed = X_train.copy()\n",
        "X_test_processed = X_test.copy()\n",
        "\n",
        "scaler = StandardScaler()\n",
        "X_train_processed[all_numerical] = scaler.fit_transform(X_train_processed[all_numerical])\n",
        "X_test_processed[all_numerical] = scaler.transform(X_test_processed[all_numerical])"
      ]
    },
    {
      "cell_type": "code",
      "execution_count": null,
      "metadata": {
        "colab": {
          "base_uri": "https://localhost:8080/"
        },
        "id": "62jGIKvMpFnr",
        "outputId": "72569f5e-952c-4fd1-c50d-90bfdbf250ff"
      },
      "outputs": [
        {
          "output_type": "stream",
          "name": "stdout",
          "text": [
            "\n",
            "Feature Importance Scores:\n",
            "   feature  mi_score\n",
            "5       X6  0.078625\n",
            "6       X7  0.050079\n",
            "7       X8  0.037311\n",
            "8       X9  0.033667\n",
            "9      X10  0.030242\n",
            "17     X18  0.026313\n",
            "19     X20  0.022060\n",
            "10     X11  0.020371\n",
            "18     X19  0.016356\n",
            "0       X1  0.015999\n",
            "21     X22  0.015901\n",
            "20     X21  0.014517\n",
            "22     X23  0.009042\n",
            "11     X12  0.008315\n",
            "12     X13  0.006664\n",
            "14     X15  0.006655\n",
            "15     X16  0.006428\n",
            "2       X3  0.005619\n",
            "13     X14  0.003815\n",
            "3       X4  0.002592\n",
            "16     X17  0.002464\n",
            "4       X5  0.001006\n",
            "1       X2  0.000304\n"
          ]
        }
      ],
      "source": [
        "# feature selection (used MI instead of Boruta because MI is easier to interpret)\n",
        "threshold = 0.01 # initial value\n",
        "\n",
        "mi_scores = mutual_info_classif(X_train_processed, y_train, random_state=42)\n",
        "scores_df = pd.DataFrame({'feature': X_train_processed.columns,'mi_score': mi_scores}).sort_values('mi_score', ascending=False)\n",
        "\n",
        "selected_features = scores_df[scores_df['mi_score'] > threshold]['feature'].tolist()\n",
        "\n",
        "print(\"\\nFeature Importance Scores:\")\n",
        "print(scores_df)"
      ]
    },
    {
      "cell_type": "markdown",
      "metadata": {
        "id": "v9vsLgsWcg32"
      },
      "source": [
        "# Data Preprocessing"
      ]
    },
    {
      "cell_type": "code",
      "execution_count": null,
      "metadata": {
        "id": "b0VCS9V_pI8Q"
      },
      "outputs": [],
      "source": [
        "# Create a selection of the top features\n",
        "X_train_selected = X_train_processed[selected_features]\n",
        "X_test_selected = X_test_processed[selected_features]"
      ]
    },
    {
      "cell_type": "code",
      "execution_count": null,
      "metadata": {
        "id": "nbcYOqjhg3ID"
      },
      "outputs": [],
      "source": [
        "X_t = torch.tensor(X.values, dtype=torch.float32)\n",
        "y_t = torch.tensor(y, dtype=torch.float32).reshape(-1, 1)\n",
        "X_train, X_test, y_train, y_test = train_test_split(X_t, y_t, train_size=0.8, random_state=42)"
      ]
    },
    {
      "cell_type": "code",
      "execution_count": null,
      "metadata": {
        "id": "ogPD6vr9FTY2"
      },
      "outputs": [],
      "source": [
        "class CreditDataset(Dataset):\n",
        "    def __init__(self):\n",
        "        X_train = torch.tensor(X_train_selected.values, dtype=torch.float32)\n",
        "        X_test = torch.tensor(X_test_selected.values, dtype=torch.float32)\n",
        "\n",
        "        y_tr = y_train.clone().detach().reshape(-1, 1)  # works with CrossEntropyLoss\n",
        "        y_te = y_test.clone().detach().reshape(-1, 1)  # works with CrossEntropyLoss\n",
        "\n",
        "        # Load the training and testing dataset\n",
        "        training_data, training_labels = X_train, y_tr\n",
        "        test_data, test_labels = X_test, y_te\n",
        "        # Record down the split point between train and test dataset\n",
        "        self.train_test_split = len(training_labels)\n",
        "        # Record down the overall dataset size\n",
        "        self.size = len(training_labels) + len(test_labels)\n",
        "\n",
        "        # Concatenate training and testing dataset\n",
        "        self.data = torch.cat([training_data, test_data],dim=0)\n",
        "        self.labels = torch.cat([training_labels, test_labels],dim=0)\n",
        "\n",
        "\n",
        "    def __len__(self):\n",
        "        '''\n",
        "        This function returns the size of overall dataset\n",
        "        '''\n",
        "        return self.size\n",
        "\n",
        "\n",
        "    def __getitem__(self, idx):\n",
        "        '''\n",
        "        This function extracts a single entry from the dataset at the given index idx\n",
        "        '''\n",
        "        return self.data[idx], self.labels[idx]\n",
        "\n",
        "    def get_train_test_split(self):\n",
        "        '''\n",
        "        This function gets the train test split size of the dataset\n",
        "        '''\n",
        "        return self.train_test_split"
      ]
    },
    {
      "cell_type": "markdown",
      "metadata": {
        "id": "Tb8pXestcsN8"
      },
      "source": [
        "# Model Building"
      ]
    },
    {
      "cell_type": "code",
      "execution_count": null,
      "metadata": {
        "id": "UtUSjuX0qwEd"
      },
      "outputs": [],
      "source": [
        "DEVICE = torch.device(\"cuda:0\" if torch.cuda.is_available() else \"cpu\") # This says if GPU is available, use GPU, otherwise use CPU\n",
        "NUM_EPOCHS = 100\n",
        "LEARNING_RATE = .001\n",
        "BATCH_SIZE = 500"
      ]
    },
    {
      "cell_type": "code",
      "execution_count": null,
      "metadata": {
        "id": "vI3RMTGJGdfD"
      },
      "outputs": [],
      "source": [
        "def set_up_classifier():\n",
        "    classifier = MLP()  # define binary classifier\n",
        "    classifier.to(DEVICE)  # send the classifier to DEVICE as defined earlier\n",
        "\n",
        "    print(\"# of params in model: \", sum(x.numel() for x in classifier.parameters()))\n",
        "\n",
        "    criterion = nn.CrossEntropyLoss()\n",
        "    criterion = criterion.to(DEVICE)\n",
        "\n",
        "    # define the optimizer\n",
        "    optimizer = optim.Adam(classifier.parameters(), lr=LEARNING_RATE)\n",
        "\n",
        "    return classifier, criterion, optimizer"
      ]
    },
    {
      "cell_type": "markdown",
      "metadata": {
        "id": "q0m6WRksdETB"
      },
      "source": [
        "# Model Training & Test"
      ]
    },
    {
      "cell_type": "code",
      "execution_count": null,
      "metadata": {
        "id": "mH24aNJjHGMS"
      },
      "outputs": [],
      "source": [
        "# Import the dataloader utilities\n",
        "import torch.utils.data as data_utils\n",
        "from torch.utils.data.sampler import SubsetRandomSampler, WeightedRandomSampler\n",
        "\n",
        "def get_dataloader():\n",
        "    dataset = CreditDataset()\n",
        "    # Get the indices of train dataset and test dataset correspondingly, indices [0:train_test_split] are the training dataset, indices [train_test_split, len(dataset)] are the test dataset.\n",
        "    train_test_split = dataset.get_train_test_split()\n",
        "    train_indices, val_indices = list(range(train_test_split)), list(range(train_test_split,len(dataset)))\n",
        "\n",
        "    # Shuffle the two index lists\n",
        "    np.random.shuffle(train_indices)\n",
        "    np.random.shuffle(val_indices)\n",
        "\n",
        "    # Define two subset random samplers to sample events according to the training indices\n",
        "    train_sampler = SubsetRandomSampler(train_indices)\n",
        "    valid_sampler = SubsetRandomSampler(val_indices)\n",
        "\n",
        "    # weighted sampler\n",
        "    labels = dataset.labels.squeeze(1)\n",
        "    # Convert labels to integers before torch.bincount\n",
        "    labels = labels.type(torch.int64)\n",
        "    class_counts = torch.bincount(labels)\n",
        "    weights = 1. / class_counts.float()\n",
        "    weight_train_sampler = WeightedRandomSampler(weights[labels], len(train_indices))\n",
        "    weight_valid_sampler = WeightedRandomSampler(weights[labels], len(val_indices))\n",
        "\n",
        "    # Finally, define the loader by passing in the dataset, batch size and corresponding sampler\n",
        "    # Note that the number of data in each sub-dataset might not be divisible by the batch size, so drop_last=True drops the last batch with all the residual events.\n",
        "    train_loader = data_utils.DataLoader(dataset, batch_size=BATCH_SIZE, sampler=weight_train_sampler, drop_last=True)  # train on balanced data\n",
        "    test_loader = data_utils.DataLoader(dataset, batch_size=BATCH_SIZE,sampler=valid_sampler,  drop_last=True)  # test on unbalanced data\n",
        "\n",
        "    return train_loader, test_loader\n"
      ]
    },
    {
      "cell_type": "code",
      "execution_count": null,
      "metadata": {
        "id": "rOee958iqwEc"
      },
      "outputs": [],
      "source": [
        "#######\n",
        "class MLP(torch.nn.Module):\n",
        "  def __init__(self):\n",
        "    super(MLP, self).__init__()\n",
        "\n",
        "    self.classif = nn.Sequential(\n",
        "      nn.Linear(12, 128),\n",
        "      nn.LeakyReLU(),\n",
        "\n",
        "      nn.Linear(128, 128),\n",
        "      nn.LeakyReLU(),\n",
        "\n",
        "      nn.Linear(128, 64),\n",
        "      nn.LeakyReLU(),\n",
        "      nn.Dropout(p=0.1),\n",
        "\n",
        "      nn.Linear(64, 32),\n",
        "      nn.LeakyReLU(),\n",
        "      nn.Linear(32, 2),\n",
        "      )\n",
        "\n",
        "  def forward(self, x):\n",
        "    # DO: define the feedforward algorithm of the model and return the final output\n",
        "    x = self.classif(x)\n",
        "    return x\n",
        "#######"
      ]
    },
    {
      "cell_type": "code",
      "execution_count": null,
      "metadata": {
        "colab": {
          "base_uri": "https://localhost:8080/"
        },
        "id": "r2Q9tNyQqwEc",
        "outputId": "bacd5b05-9b76-4b5d-e13d-96da72557437"
      },
      "outputs": [
        {
          "output_type": "stream",
          "name": "stdout",
          "text": [
            "12\n",
            "tensor([[-0.0649, -0.1917]], grad_fn=<AddmmBackward0>)\n",
            "tensor([0.])\n"
          ]
        }
      ],
      "source": [
        "## for testing with torchsnooper\n",
        "# pull out one event from the dataset\n",
        "test_event, test_label = next(iter(CreditDataset()))\n",
        "test_event = test_event.unsqueeze(0).float()  # dummy batch dimension\n",
        "print(len(test_event[0]))\n",
        "test_network = MLP()\n",
        "print(test_network(test_event))\n",
        "print(test_label)"
      ]
    },
    {
      "cell_type": "code",
      "execution_count": null,
      "metadata": {
        "colab": {
          "base_uri": "https://localhost:8080/"
        },
        "collapsed": true,
        "id": "3JgOu4-LqwEd",
        "outputId": "66d0c495-f42a-418e-e5f0-2d673f610f52"
      },
      "outputs": [
        {
          "output_type": "stream",
          "name": "stdout",
          "text": [
            "# of params in model:  28578\n"
          ]
        },
        {
          "output_type": "stream",
          "name": "stderr",
          "text": [
            "48it [00:00, 117.61it/s]\n"
          ]
        },
        {
          "output_type": "stream",
          "name": "stdout",
          "text": [
            "\rEpoch [1/100], Iter [48/48], Loss: 0.5781"
          ]
        },
        {
          "output_type": "stream",
          "name": "stderr",
          "text": [
            "100%|██████████| 12/12 [00:00<00:00, 228.84it/s]\n",
            "48it [00:00, 218.90it/s]\n"
          ]
        },
        {
          "output_type": "stream",
          "name": "stdout",
          "text": [
            "\rEpoch [2/100], Iter [48/48], Loss: 0.5838"
          ]
        },
        {
          "output_type": "stream",
          "name": "stderr",
          "text": [
            "100%|██████████| 12/12 [00:00<00:00, 253.17it/s]\n",
            "48it [00:00, 217.50it/s]\n"
          ]
        },
        {
          "output_type": "stream",
          "name": "stdout",
          "text": [
            "\rEpoch [3/100], Iter [48/48], Loss: 0.5971"
          ]
        },
        {
          "output_type": "stream",
          "name": "stderr",
          "text": [
            "100%|██████████| 12/12 [00:00<00:00, 253.04it/s]\n",
            "48it [00:00, 205.20it/s]\n"
          ]
        },
        {
          "output_type": "stream",
          "name": "stdout",
          "text": [
            "\rEpoch [4/100], Iter [48/48], Loss: 0.5518"
          ]
        },
        {
          "output_type": "stream",
          "name": "stderr",
          "text": [
            "100%|██████████| 12/12 [00:00<00:00, 215.09it/s]\n",
            "48it [00:00, 117.68it/s]\n"
          ]
        },
        {
          "output_type": "stream",
          "name": "stdout",
          "text": [
            "\rEpoch [5/100], Iter [48/48], Loss: 0.5677"
          ]
        },
        {
          "output_type": "stream",
          "name": "stderr",
          "text": [
            "100%|██████████| 12/12 [00:00<00:00, 228.59it/s]\n",
            "48it [00:00, 216.66it/s]\n"
          ]
        },
        {
          "output_type": "stream",
          "name": "stdout",
          "text": [
            "\rEpoch [6/100], Iter [48/48], Loss: 0.5744"
          ]
        },
        {
          "output_type": "stream",
          "name": "stderr",
          "text": [
            "100%|██████████| 12/12 [00:00<00:00, 234.59it/s]\n",
            "48it [00:00, 209.35it/s]\n"
          ]
        },
        {
          "output_type": "stream",
          "name": "stdout",
          "text": [
            "\rEpoch [7/100], Iter [48/48], Loss: 0.5500"
          ]
        },
        {
          "output_type": "stream",
          "name": "stderr",
          "text": [
            "100%|██████████| 12/12 [00:00<00:00, 172.22it/s]\n",
            "48it [00:00, 210.16it/s]\n"
          ]
        },
        {
          "output_type": "stream",
          "name": "stdout",
          "text": [
            "\rEpoch [8/100], Iter [48/48], Loss: 0.5583"
          ]
        },
        {
          "output_type": "stream",
          "name": "stderr",
          "text": [
            "100%|██████████| 12/12 [00:00<00:00, 243.40it/s]\n",
            "48it [00:00, 217.98it/s]\n"
          ]
        },
        {
          "output_type": "stream",
          "name": "stdout",
          "text": [
            "\rEpoch [9/100], Iter [48/48], Loss: 0.5234"
          ]
        },
        {
          "output_type": "stream",
          "name": "stderr",
          "text": [
            "100%|██████████| 12/12 [00:00<00:00, 254.63it/s]\n",
            "48it [00:00, 157.96it/s]\n"
          ]
        },
        {
          "output_type": "stream",
          "name": "stdout",
          "text": [
            "\rEpoch [10/100], Iter [48/48], Loss: 0.5998"
          ]
        },
        {
          "output_type": "stream",
          "name": "stderr",
          "text": [
            "100%|██████████| 12/12 [00:00<00:00, 113.53it/s]\n",
            "48it [00:00, 92.26it/s]\n"
          ]
        },
        {
          "output_type": "stream",
          "name": "stdout",
          "text": [
            "\rEpoch [11/100], Iter [48/48], Loss: 0.5706"
          ]
        },
        {
          "output_type": "stream",
          "name": "stderr",
          "text": [
            "100%|██████████| 12/12 [00:00<00:00, 157.80it/s]\n",
            "48it [00:00, 144.04it/s]\n"
          ]
        },
        {
          "output_type": "stream",
          "name": "stdout",
          "text": [
            "\rEpoch [12/100], Iter [48/48], Loss: 0.5256"
          ]
        },
        {
          "output_type": "stream",
          "name": "stderr",
          "text": [
            "100%|██████████| 12/12 [00:00<00:00, 142.10it/s]\n",
            "48it [00:00, 140.62it/s]\n"
          ]
        },
        {
          "output_type": "stream",
          "name": "stdout",
          "text": [
            "\rEpoch [13/100], Iter [48/48], Loss: 0.5480"
          ]
        },
        {
          "output_type": "stream",
          "name": "stderr",
          "text": [
            "100%|██████████| 12/12 [00:00<00:00, 150.68it/s]\n",
            "48it [00:00, 137.74it/s]\n"
          ]
        },
        {
          "output_type": "stream",
          "name": "stdout",
          "text": [
            "\rEpoch [14/100], Iter [48/48], Loss: 0.5403"
          ]
        },
        {
          "output_type": "stream",
          "name": "stderr",
          "text": [
            "100%|██████████| 12/12 [00:00<00:00, 132.65it/s]\n",
            "48it [00:00, 130.22it/s]\n"
          ]
        },
        {
          "output_type": "stream",
          "name": "stdout",
          "text": [
            "\rEpoch [15/100], Iter [48/48], Loss: 0.5299"
          ]
        },
        {
          "output_type": "stream",
          "name": "stderr",
          "text": [
            "100%|██████████| 12/12 [00:00<00:00, 58.26it/s]\n",
            "48it [00:00, 219.89it/s]\n"
          ]
        },
        {
          "output_type": "stream",
          "name": "stdout",
          "text": [
            "\rEpoch [16/100], Iter [48/48], Loss: 0.5582"
          ]
        },
        {
          "output_type": "stream",
          "name": "stderr",
          "text": [
            "100%|██████████| 12/12 [00:00<00:00, 223.52it/s]\n",
            "48it [00:00, 188.35it/s]\n"
          ]
        },
        {
          "output_type": "stream",
          "name": "stdout",
          "text": [
            "\rEpoch [17/100], Iter [48/48], Loss: 0.6020"
          ]
        },
        {
          "output_type": "stream",
          "name": "stderr",
          "text": [
            "100%|██████████| 12/12 [00:00<00:00, 240.06it/s]\n",
            "48it [00:00, 218.08it/s]\n"
          ]
        },
        {
          "output_type": "stream",
          "name": "stdout",
          "text": [
            "\rEpoch [18/100], Iter [48/48], Loss: 0.5336"
          ]
        },
        {
          "output_type": "stream",
          "name": "stderr",
          "text": [
            "100%|██████████| 12/12 [00:00<00:00, 255.36it/s]\n",
            "48it [00:00, 217.34it/s]\n"
          ]
        },
        {
          "output_type": "stream",
          "name": "stdout",
          "text": [
            "\rEpoch [19/100], Iter [48/48], Loss: 0.5631"
          ]
        },
        {
          "output_type": "stream",
          "name": "stderr",
          "text": [
            "100%|██████████| 12/12 [00:00<00:00, 56.52it/s]\n",
            "48it [00:00, 183.52it/s]\n"
          ]
        },
        {
          "output_type": "stream",
          "name": "stdout",
          "text": [
            "\rEpoch [20/100], Iter [48/48], Loss: 0.5359"
          ]
        },
        {
          "output_type": "stream",
          "name": "stderr",
          "text": [
            "100%|██████████| 12/12 [00:00<00:00, 243.06it/s]\n",
            "48it [00:00, 215.94it/s]\n"
          ]
        },
        {
          "output_type": "stream",
          "name": "stdout",
          "text": [
            "\rEpoch [21/100], Iter [48/48], Loss: 0.5746"
          ]
        },
        {
          "output_type": "stream",
          "name": "stderr",
          "text": [
            "100%|██████████| 12/12 [00:00<00:00, 234.11it/s]\n",
            "48it [00:00, 221.71it/s]\n"
          ]
        },
        {
          "output_type": "stream",
          "name": "stdout",
          "text": [
            "\rEpoch [22/100], Iter [48/48], Loss: 0.4981"
          ]
        },
        {
          "output_type": "stream",
          "name": "stderr",
          "text": [
            "100%|██████████| 12/12 [00:00<00:00, 246.50it/s]\n",
            "48it [00:00, 196.68it/s]\n"
          ]
        },
        {
          "output_type": "stream",
          "name": "stdout",
          "text": [
            "\rEpoch [23/100], Iter [48/48], Loss: 0.5493"
          ]
        },
        {
          "output_type": "stream",
          "name": "stderr",
          "text": [
            "100%|██████████| 12/12 [00:00<00:00, 180.94it/s]\n",
            "48it [00:00, 213.77it/s]\n"
          ]
        },
        {
          "output_type": "stream",
          "name": "stdout",
          "text": [
            "\rEpoch [24/100], Iter [48/48], Loss: 0.5422"
          ]
        },
        {
          "output_type": "stream",
          "name": "stderr",
          "text": [
            "100%|██████████| 12/12 [00:00<00:00, 248.02it/s]\n",
            "48it [00:00, 221.58it/s]\n"
          ]
        },
        {
          "output_type": "stream",
          "name": "stdout",
          "text": [
            "\rEpoch [25/100], Iter [48/48], Loss: 0.5707"
          ]
        },
        {
          "output_type": "stream",
          "name": "stderr",
          "text": [
            "100%|██████████| 12/12 [00:00<00:00, 234.11it/s]\n",
            "48it [00:00, 114.44it/s]\n"
          ]
        },
        {
          "output_type": "stream",
          "name": "stdout",
          "text": [
            "\rEpoch [26/100], Iter [48/48], Loss: 0.5740"
          ]
        },
        {
          "output_type": "stream",
          "name": "stderr",
          "text": [
            "100%|██████████| 12/12 [00:00<00:00, 253.19it/s]\n",
            "48it [00:00, 210.43it/s]\n"
          ]
        },
        {
          "output_type": "stream",
          "name": "stdout",
          "text": [
            "\rEpoch [27/100], Iter [48/48], Loss: 0.5480"
          ]
        },
        {
          "output_type": "stream",
          "name": "stderr",
          "text": [
            "100%|██████████| 12/12 [00:00<00:00, 251.80it/s]\n",
            "48it [00:00, 223.39it/s]\n"
          ]
        },
        {
          "output_type": "stream",
          "name": "stdout",
          "text": [
            "\rEpoch [28/100], Iter [48/48], Loss: 0.5374"
          ]
        },
        {
          "output_type": "stream",
          "name": "stderr",
          "text": [
            "100%|██████████| 12/12 [00:00<00:00, 147.53it/s]\n",
            "48it [00:00, 208.88it/s]\n"
          ]
        },
        {
          "output_type": "stream",
          "name": "stdout",
          "text": [
            "\rEpoch [29/100], Iter [48/48], Loss: 0.5716"
          ]
        },
        {
          "output_type": "stream",
          "name": "stderr",
          "text": [
            "100%|██████████| 12/12 [00:00<00:00, 155.05it/s]\n",
            "48it [00:00, 125.98it/s]\n"
          ]
        },
        {
          "output_type": "stream",
          "name": "stdout",
          "text": [
            "\rEpoch [30/100], Iter [48/48], Loss: 0.5023"
          ]
        },
        {
          "output_type": "stream",
          "name": "stderr",
          "text": [
            "100%|██████████| 12/12 [00:00<00:00, 260.34it/s]\n",
            "48it [00:00, 218.73it/s]\n"
          ]
        },
        {
          "output_type": "stream",
          "name": "stdout",
          "text": [
            "\rEpoch [31/100], Iter [48/48], Loss: 0.5544"
          ]
        },
        {
          "output_type": "stream",
          "name": "stderr",
          "text": [
            "100%|██████████| 12/12 [00:00<00:00, 252.95it/s]\n",
            "48it [00:00, 202.37it/s]\n"
          ]
        },
        {
          "output_type": "stream",
          "name": "stdout",
          "text": [
            "\rEpoch [32/100], Iter [48/48], Loss: 0.5664"
          ]
        },
        {
          "output_type": "stream",
          "name": "stderr",
          "text": [
            "100%|██████████| 12/12 [00:00<00:00, 182.98it/s]\n",
            "48it [00:00, 219.62it/s]\n"
          ]
        },
        {
          "output_type": "stream",
          "name": "stdout",
          "text": [
            "\rEpoch [33/100], Iter [48/48], Loss: 0.5339"
          ]
        },
        {
          "output_type": "stream",
          "name": "stderr",
          "text": [
            "100%|██████████| 12/12 [00:00<00:00, 249.13it/s]\n",
            "48it [00:00, 217.73it/s]\n"
          ]
        },
        {
          "output_type": "stream",
          "name": "stdout",
          "text": [
            "\rEpoch [34/100], Iter [48/48], Loss: 0.5235"
          ]
        },
        {
          "output_type": "stream",
          "name": "stderr",
          "text": [
            "100%|██████████| 12/12 [00:00<00:00, 250.59it/s]\n",
            "48it [00:00, 216.42it/s]\n"
          ]
        },
        {
          "output_type": "stream",
          "name": "stdout",
          "text": [
            "\rEpoch [35/100], Iter [48/48], Loss: 0.5310"
          ]
        },
        {
          "output_type": "stream",
          "name": "stderr",
          "text": [
            "100%|██████████| 12/12 [00:00<00:00, 228.72it/s]\n",
            "48it [00:00, 112.82it/s]\n"
          ]
        },
        {
          "output_type": "stream",
          "name": "stdout",
          "text": [
            "\rEpoch [36/100], Iter [48/48], Loss: 0.5130"
          ]
        },
        {
          "output_type": "stream",
          "name": "stderr",
          "text": [
            "100%|██████████| 12/12 [00:00<00:00, 242.68it/s]\n",
            "48it [00:00, 217.36it/s]\n"
          ]
        },
        {
          "output_type": "stream",
          "name": "stdout",
          "text": [
            "\rEpoch [37/100], Iter [48/48], Loss: 0.5737"
          ]
        },
        {
          "output_type": "stream",
          "name": "stderr",
          "text": [
            "100%|██████████| 12/12 [00:00<00:00, 251.25it/s]\n",
            "48it [00:00, 214.42it/s]\n"
          ]
        },
        {
          "output_type": "stream",
          "name": "stdout",
          "text": [
            "\rEpoch [38/100], Iter [48/48], Loss: 0.5153"
          ]
        },
        {
          "output_type": "stream",
          "name": "stderr",
          "text": [
            "100%|██████████| 12/12 [00:00<00:00, 183.51it/s]\n",
            "48it [00:00, 203.38it/s]\n"
          ]
        },
        {
          "output_type": "stream",
          "name": "stdout",
          "text": [
            "\rEpoch [39/100], Iter [48/48], Loss: 0.5064"
          ]
        },
        {
          "output_type": "stream",
          "name": "stderr",
          "text": [
            "100%|██████████| 12/12 [00:00<00:00, 252.04it/s]\n",
            "48it [00:00, 129.88it/s]\n"
          ]
        },
        {
          "output_type": "stream",
          "name": "stdout",
          "text": [
            "\rEpoch [40/100], Iter [48/48], Loss: 0.5318"
          ]
        },
        {
          "output_type": "stream",
          "name": "stderr",
          "text": [
            "100%|██████████| 12/12 [00:00<00:00, 240.98it/s]\n",
            "48it [00:00, 203.67it/s]\n"
          ]
        },
        {
          "output_type": "stream",
          "name": "stdout",
          "text": [
            "\rEpoch [41/100], Iter [48/48], Loss: 0.5080"
          ]
        },
        {
          "output_type": "stream",
          "name": "stderr",
          "text": [
            "100%|██████████| 12/12 [00:00<00:00, 194.52it/s]\n",
            "48it [00:00, 210.05it/s]\n"
          ]
        },
        {
          "output_type": "stream",
          "name": "stdout",
          "text": [
            "\rEpoch [42/100], Iter [48/48], Loss: 0.5251"
          ]
        },
        {
          "output_type": "stream",
          "name": "stderr",
          "text": [
            "100%|██████████| 12/12 [00:00<00:00, 241.58it/s]\n",
            "48it [00:00, 220.37it/s]\n"
          ]
        },
        {
          "output_type": "stream",
          "name": "stdout",
          "text": [
            "\rEpoch [43/100], Iter [48/48], Loss: 0.4904"
          ]
        },
        {
          "output_type": "stream",
          "name": "stderr",
          "text": [
            "100%|██████████| 12/12 [00:00<00:00, 251.04it/s]\n",
            "48it [00:00, 213.61it/s]\n"
          ]
        },
        {
          "output_type": "stream",
          "name": "stdout",
          "text": [
            "\rEpoch [44/100], Iter [48/48], Loss: 0.4974"
          ]
        },
        {
          "output_type": "stream",
          "name": "stderr",
          "text": [
            "100%|██████████| 12/12 [00:00<00:00, 235.48it/s]\n",
            "48it [00:00, 188.43it/s]\n"
          ]
        },
        {
          "output_type": "stream",
          "name": "stdout",
          "text": [
            "\rEpoch [45/100], Iter [48/48], Loss: 0.5536"
          ]
        },
        {
          "output_type": "stream",
          "name": "stderr",
          "text": [
            "100%|██████████| 12/12 [00:00<00:00, 238.03it/s]\n",
            "48it [00:00, 159.96it/s]\n"
          ]
        },
        {
          "output_type": "stream",
          "name": "stdout",
          "text": [
            "\rEpoch [46/100], Iter [48/48], Loss: 0.5018"
          ]
        },
        {
          "output_type": "stream",
          "name": "stderr",
          "text": [
            "100%|██████████| 12/12 [00:00<00:00, 42.91it/s]\n",
            "48it [00:00, 132.53it/s]\n"
          ]
        },
        {
          "output_type": "stream",
          "name": "stdout",
          "text": [
            "\rEpoch [47/100], Iter [48/48], Loss: 0.4877"
          ]
        },
        {
          "output_type": "stream",
          "name": "stderr",
          "text": [
            "100%|██████████| 12/12 [00:00<00:00, 155.22it/s]\n",
            "48it [00:00, 158.51it/s]\n"
          ]
        },
        {
          "output_type": "stream",
          "name": "stdout",
          "text": [
            "\rEpoch [48/100], Iter [48/48], Loss: 0.5148"
          ]
        },
        {
          "output_type": "stream",
          "name": "stderr",
          "text": [
            "100%|██████████| 12/12 [00:00<00:00, 165.84it/s]\n",
            "48it [00:00, 131.27it/s]\n"
          ]
        },
        {
          "output_type": "stream",
          "name": "stdout",
          "text": [
            "\rEpoch [49/100], Iter [48/48], Loss: 0.4842"
          ]
        },
        {
          "output_type": "stream",
          "name": "stderr",
          "text": [
            "100%|██████████| 12/12 [00:00<00:00, 135.63it/s]\n",
            "48it [00:00, 136.29it/s]\n"
          ]
        },
        {
          "output_type": "stream",
          "name": "stdout",
          "text": [
            "\rEpoch [50/100], Iter [48/48], Loss: 0.4946"
          ]
        },
        {
          "output_type": "stream",
          "name": "stderr",
          "text": [
            "100%|██████████| 12/12 [00:00<00:00, 153.44it/s]\n",
            "48it [00:00, 144.14it/s]\n"
          ]
        },
        {
          "output_type": "stream",
          "name": "stdout",
          "text": [
            "\rEpoch [51/100], Iter [48/48], Loss: 0.4655"
          ]
        },
        {
          "output_type": "stream",
          "name": "stderr",
          "text": [
            "100%|██████████| 12/12 [00:00<00:00, 150.77it/s]\n",
            "48it [00:00, 141.10it/s]\n"
          ]
        },
        {
          "output_type": "stream",
          "name": "stdout",
          "text": [
            "\rEpoch [52/100], Iter [48/48], Loss: 0.5288"
          ]
        },
        {
          "output_type": "stream",
          "name": "stderr",
          "text": [
            "100%|██████████| 12/12 [00:00<00:00, 58.47it/s]\n",
            "48it [00:00, 218.44it/s]\n"
          ]
        },
        {
          "output_type": "stream",
          "name": "stdout",
          "text": [
            "\rEpoch [53/100], Iter [48/48], Loss: 0.5083"
          ]
        },
        {
          "output_type": "stream",
          "name": "stderr",
          "text": [
            "100%|██████████| 12/12 [00:00<00:00, 238.80it/s]\n",
            "48it [00:00, 186.56it/s]\n"
          ]
        },
        {
          "output_type": "stream",
          "name": "stdout",
          "text": [
            "\rEpoch [54/100], Iter [48/48], Loss: 0.4826"
          ]
        },
        {
          "output_type": "stream",
          "name": "stderr",
          "text": [
            "100%|██████████| 12/12 [00:00<00:00, 228.58it/s]\n",
            "48it [00:00, 208.59it/s]\n"
          ]
        },
        {
          "output_type": "stream",
          "name": "stdout",
          "text": [
            "\rEpoch [55/100], Iter [48/48], Loss: 0.5245"
          ]
        },
        {
          "output_type": "stream",
          "name": "stderr",
          "text": [
            "100%|██████████| 12/12 [00:00<00:00, 240.94it/s]\n",
            "48it [00:00, 215.18it/s]\n"
          ]
        },
        {
          "output_type": "stream",
          "name": "stdout",
          "text": [
            "\rEpoch [56/100], Iter [48/48], Loss: 0.5142"
          ]
        },
        {
          "output_type": "stream",
          "name": "stderr",
          "text": [
            "100%|██████████| 12/12 [00:00<00:00, 241.41it/s]\n",
            "48it [00:00, 118.07it/s]\n"
          ]
        },
        {
          "output_type": "stream",
          "name": "stdout",
          "text": [
            "\rEpoch [57/100], Iter [48/48], Loss: 0.4630"
          ]
        },
        {
          "output_type": "stream",
          "name": "stderr",
          "text": [
            "100%|██████████| 12/12 [00:00<00:00, 250.87it/s]\n",
            "48it [00:00, 205.24it/s]\n"
          ]
        },
        {
          "output_type": "stream",
          "name": "stdout",
          "text": [
            "\rEpoch [58/100], Iter [48/48], Loss: 0.4714"
          ]
        },
        {
          "output_type": "stream",
          "name": "stderr",
          "text": [
            "100%|██████████| 12/12 [00:00<00:00, 242.78it/s]\n",
            "48it [00:00, 216.55it/s]\n"
          ]
        },
        {
          "output_type": "stream",
          "name": "stdout",
          "text": [
            "\rEpoch [59/100], Iter [48/48], Loss: 0.5187"
          ]
        },
        {
          "output_type": "stream",
          "name": "stderr",
          "text": [
            "100%|██████████| 12/12 [00:00<00:00, 223.50it/s]\n",
            "48it [00:00, 190.35it/s]\n"
          ]
        },
        {
          "output_type": "stream",
          "name": "stdout",
          "text": [
            "\rEpoch [60/100], Iter [48/48], Loss: 0.5096"
          ]
        },
        {
          "output_type": "stream",
          "name": "stderr",
          "text": [
            "100%|██████████| 12/12 [00:00<00:00, 236.01it/s]\n",
            "48it [00:00, 215.06it/s]\n"
          ]
        },
        {
          "output_type": "stream",
          "name": "stdout",
          "text": [
            "\rEpoch [61/100], Iter [48/48], Loss: 0.4949"
          ]
        },
        {
          "output_type": "stream",
          "name": "stderr",
          "text": [
            "100%|██████████| 12/12 [00:00<00:00, 197.78it/s]\n",
            "48it [00:00, 214.81it/s]\n"
          ]
        },
        {
          "output_type": "stream",
          "name": "stdout",
          "text": [
            "\rEpoch [62/100], Iter [48/48], Loss: 0.5078"
          ]
        },
        {
          "output_type": "stream",
          "name": "stderr",
          "text": [
            "100%|██████████| 12/12 [00:00<00:00, 229.82it/s]\n",
            "48it [00:00, 117.29it/s]\n"
          ]
        },
        {
          "output_type": "stream",
          "name": "stdout",
          "text": [
            "\rEpoch [63/100], Iter [48/48], Loss: 0.4777"
          ]
        },
        {
          "output_type": "stream",
          "name": "stderr",
          "text": [
            "100%|██████████| 12/12 [00:00<00:00, 233.49it/s]\n",
            "48it [00:00, 210.72it/s]\n"
          ]
        },
        {
          "output_type": "stream",
          "name": "stdout",
          "text": [
            "\rEpoch [64/100], Iter [48/48], Loss: 0.4561"
          ]
        },
        {
          "output_type": "stream",
          "name": "stderr",
          "text": [
            "100%|██████████| 12/12 [00:00<00:00, 226.70it/s]\n",
            "48it [00:00, 219.02it/s]\n"
          ]
        },
        {
          "output_type": "stream",
          "name": "stdout",
          "text": [
            "\rEpoch [65/100], Iter [48/48], Loss: 0.5497"
          ]
        },
        {
          "output_type": "stream",
          "name": "stderr",
          "text": [
            "100%|██████████| 12/12 [00:00<00:00, 228.96it/s]\n",
            "48it [00:00, 196.58it/s]\n"
          ]
        },
        {
          "output_type": "stream",
          "name": "stdout",
          "text": [
            "\rEpoch [66/100], Iter [48/48], Loss: 0.4888"
          ]
        },
        {
          "output_type": "stream",
          "name": "stderr",
          "text": [
            "100%|██████████| 12/12 [00:00<00:00, 194.77it/s]\n",
            "48it [00:00, 124.29it/s]\n"
          ]
        },
        {
          "output_type": "stream",
          "name": "stdout",
          "text": [
            "\rEpoch [67/100], Iter [48/48], Loss: 0.5019"
          ]
        },
        {
          "output_type": "stream",
          "name": "stderr",
          "text": [
            "100%|██████████| 12/12 [00:00<00:00, 255.89it/s]\n",
            "48it [00:00, 221.06it/s]\n"
          ]
        },
        {
          "output_type": "stream",
          "name": "stdout",
          "text": [
            "\rEpoch [68/100], Iter [48/48], Loss: 0.4891"
          ]
        },
        {
          "output_type": "stream",
          "name": "stderr",
          "text": [
            "100%|██████████| 12/12 [00:00<00:00, 220.81it/s]\n",
            "48it [00:00, 200.99it/s]\n"
          ]
        },
        {
          "output_type": "stream",
          "name": "stdout",
          "text": [
            "\rEpoch [69/100], Iter [48/48], Loss: 0.4721"
          ]
        },
        {
          "output_type": "stream",
          "name": "stderr",
          "text": [
            "100%|██████████| 12/12 [00:00<00:00, 198.54it/s]\n",
            "48it [00:00, 215.99it/s]\n"
          ]
        },
        {
          "output_type": "stream",
          "name": "stdout",
          "text": [
            "\rEpoch [70/100], Iter [48/48], Loss: 0.5056"
          ]
        },
        {
          "output_type": "stream",
          "name": "stderr",
          "text": [
            "100%|██████████| 12/12 [00:00<00:00, 230.54it/s]\n",
            "48it [00:00, 205.16it/s]\n"
          ]
        },
        {
          "output_type": "stream",
          "name": "stdout",
          "text": [
            "\rEpoch [71/100], Iter [48/48], Loss: 0.5009"
          ]
        },
        {
          "output_type": "stream",
          "name": "stderr",
          "text": [
            "100%|██████████| 12/12 [00:00<00:00, 235.02it/s]\n",
            "48it [00:00, 207.13it/s]\n"
          ]
        },
        {
          "output_type": "stream",
          "name": "stdout",
          "text": [
            "\rEpoch [72/100], Iter [48/48], Loss: 0.5145"
          ]
        },
        {
          "output_type": "stream",
          "name": "stderr",
          "text": [
            "100%|██████████| 12/12 [00:00<00:00, 193.79it/s]\n",
            "48it [00:00, 121.93it/s]\n"
          ]
        },
        {
          "output_type": "stream",
          "name": "stdout",
          "text": [
            "\rEpoch [73/100], Iter [48/48], Loss: 0.4728"
          ]
        },
        {
          "output_type": "stream",
          "name": "stderr",
          "text": [
            "100%|██████████| 12/12 [00:00<00:00, 244.14it/s]\n",
            "48it [00:00, 201.57it/s]\n"
          ]
        },
        {
          "output_type": "stream",
          "name": "stdout",
          "text": [
            "\rEpoch [74/100], Iter [48/48], Loss: 0.4683"
          ]
        },
        {
          "output_type": "stream",
          "name": "stderr",
          "text": [
            "100%|██████████| 12/12 [00:00<00:00, 241.28it/s]\n",
            "48it [00:00, 196.15it/s]\n"
          ]
        },
        {
          "output_type": "stream",
          "name": "stdout",
          "text": [
            "\rEpoch [75/100], Iter [48/48], Loss: 0.4480"
          ]
        },
        {
          "output_type": "stream",
          "name": "stderr",
          "text": [
            "100%|██████████| 12/12 [00:00<00:00, 240.81it/s]\n",
            "48it [00:00, 213.86it/s]\n"
          ]
        },
        {
          "output_type": "stream",
          "name": "stdout",
          "text": [
            "\rEpoch [76/100], Iter [48/48], Loss: 0.4997"
          ]
        },
        {
          "output_type": "stream",
          "name": "stderr",
          "text": [
            "100%|██████████| 12/12 [00:00<00:00, 234.39it/s]\n",
            "48it [00:00, 210.14it/s]\n"
          ]
        },
        {
          "output_type": "stream",
          "name": "stdout",
          "text": [
            "\rEpoch [77/100], Iter [48/48], Loss: 0.4830"
          ]
        },
        {
          "output_type": "stream",
          "name": "stderr",
          "text": [
            "100%|██████████| 12/12 [00:00<00:00, 55.67it/s]\n",
            "48it [00:00, 192.16it/s]\n"
          ]
        },
        {
          "output_type": "stream",
          "name": "stdout",
          "text": [
            "\rEpoch [78/100], Iter [48/48], Loss: 0.4635"
          ]
        },
        {
          "output_type": "stream",
          "name": "stderr",
          "text": [
            "100%|██████████| 12/12 [00:00<00:00, 221.54it/s]\n",
            "48it [00:00, 214.93it/s]\n"
          ]
        },
        {
          "output_type": "stream",
          "name": "stdout",
          "text": [
            "\rEpoch [79/100], Iter [48/48], Loss: 0.4544"
          ]
        },
        {
          "output_type": "stream",
          "name": "stderr",
          "text": [
            "100%|██████████| 12/12 [00:00<00:00, 231.01it/s]\n",
            "48it [00:00, 213.74it/s]\n"
          ]
        },
        {
          "output_type": "stream",
          "name": "stdout",
          "text": [
            "\rEpoch [80/100], Iter [48/48], Loss: 0.4857"
          ]
        },
        {
          "output_type": "stream",
          "name": "stderr",
          "text": [
            "100%|██████████| 12/12 [00:00<00:00, 239.17it/s]\n",
            "48it [00:00, 206.24it/s]\n"
          ]
        },
        {
          "output_type": "stream",
          "name": "stdout",
          "text": [
            "\rEpoch [81/100], Iter [48/48], Loss: 0.4524"
          ]
        },
        {
          "output_type": "stream",
          "name": "stderr",
          "text": [
            "100%|██████████| 12/12 [00:00<00:00, 188.30it/s]\n",
            "48it [00:00, 204.49it/s]\n"
          ]
        },
        {
          "output_type": "stream",
          "name": "stdout",
          "text": [
            "\rEpoch [82/100], Iter [48/48], Loss: 0.4640"
          ]
        },
        {
          "output_type": "stream",
          "name": "stderr",
          "text": [
            "100%|██████████| 12/12 [00:00<00:00, 232.74it/s]\n",
            "48it [00:00, 140.22it/s]\n"
          ]
        },
        {
          "output_type": "stream",
          "name": "stdout",
          "text": [
            "\rEpoch [83/100], Iter [48/48], Loss: 0.4733"
          ]
        },
        {
          "output_type": "stream",
          "name": "stderr",
          "text": [
            "100%|██████████| 12/12 [00:00<00:00, 157.27it/s]\n",
            "48it [00:00, 89.63it/s]\n"
          ]
        },
        {
          "output_type": "stream",
          "name": "stdout",
          "text": [
            "\rEpoch [84/100], Iter [48/48], Loss: 0.4806"
          ]
        },
        {
          "output_type": "stream",
          "name": "stderr",
          "text": [
            "100%|██████████| 12/12 [00:00<00:00, 168.23it/s]\n",
            "48it [00:00, 146.39it/s]\n"
          ]
        },
        {
          "output_type": "stream",
          "name": "stdout",
          "text": [
            "\rEpoch [85/100], Iter [48/48], Loss: 0.5108"
          ]
        },
        {
          "output_type": "stream",
          "name": "stderr",
          "text": [
            "100%|██████████| 12/12 [00:00<00:00, 157.31it/s]\n",
            "48it [00:00, 127.63it/s]\n"
          ]
        },
        {
          "output_type": "stream",
          "name": "stdout",
          "text": [
            "\rEpoch [86/100], Iter [48/48], Loss: 0.4456"
          ]
        },
        {
          "output_type": "stream",
          "name": "stderr",
          "text": [
            "100%|██████████| 12/12 [00:00<00:00, 148.71it/s]\n",
            "48it [00:00, 142.16it/s]\n"
          ]
        },
        {
          "output_type": "stream",
          "name": "stdout",
          "text": [
            "\rEpoch [87/100], Iter [48/48], Loss: 0.4672"
          ]
        },
        {
          "output_type": "stream",
          "name": "stderr",
          "text": [
            "100%|██████████| 12/12 [00:00<00:00, 124.05it/s]\n",
            "48it [00:00, 86.71it/s]\n"
          ]
        },
        {
          "output_type": "stream",
          "name": "stdout",
          "text": [
            "\rEpoch [88/100], Iter [48/48], Loss: 0.4691"
          ]
        },
        {
          "output_type": "stream",
          "name": "stderr",
          "text": [
            "100%|██████████| 12/12 [00:00<00:00, 224.54it/s]\n",
            "48it [00:00, 214.94it/s]\n"
          ]
        },
        {
          "output_type": "stream",
          "name": "stdout",
          "text": [
            "\rEpoch [89/100], Iter [48/48], Loss: 0.4798"
          ]
        },
        {
          "output_type": "stream",
          "name": "stderr",
          "text": [
            "100%|██████████| 12/12 [00:00<00:00, 262.92it/s]\n",
            "48it [00:00, 206.83it/s]\n"
          ]
        },
        {
          "output_type": "stream",
          "name": "stdout",
          "text": [
            "\rEpoch [90/100], Iter [48/48], Loss: 0.4710"
          ]
        },
        {
          "output_type": "stream",
          "name": "stderr",
          "text": [
            "100%|██████████| 12/12 [00:00<00:00, 242.04it/s]\n",
            "48it [00:00, 192.34it/s]\n"
          ]
        },
        {
          "output_type": "stream",
          "name": "stdout",
          "text": [
            "\rEpoch [91/100], Iter [48/48], Loss: 0.4350"
          ]
        },
        {
          "output_type": "stream",
          "name": "stderr",
          "text": [
            "100%|██████████| 12/12 [00:00<00:00, 233.30it/s]\n",
            "48it [00:00, 213.66it/s]\n"
          ]
        },
        {
          "output_type": "stream",
          "name": "stdout",
          "text": [
            "\rEpoch [92/100], Iter [48/48], Loss: 0.4837"
          ]
        },
        {
          "output_type": "stream",
          "name": "stderr",
          "text": [
            "100%|██████████| 12/12 [00:00<00:00, 207.95it/s]\n",
            "48it [00:00, 203.50it/s]\n"
          ]
        },
        {
          "output_type": "stream",
          "name": "stdout",
          "text": [
            "\rEpoch [93/100], Iter [48/48], Loss: 0.4471"
          ]
        },
        {
          "output_type": "stream",
          "name": "stderr",
          "text": [
            "100%|██████████| 12/12 [00:00<00:00, 231.52it/s]\n",
            "48it [00:00, 116.92it/s]\n"
          ]
        },
        {
          "output_type": "stream",
          "name": "stdout",
          "text": [
            "\rEpoch [94/100], Iter [48/48], Loss: 0.4403"
          ]
        },
        {
          "output_type": "stream",
          "name": "stderr",
          "text": [
            "100%|██████████| 12/12 [00:00<00:00, 244.06it/s]\n",
            "48it [00:00, 217.36it/s]\n"
          ]
        },
        {
          "output_type": "stream",
          "name": "stdout",
          "text": [
            "\rEpoch [95/100], Iter [48/48], Loss: 0.4879"
          ]
        },
        {
          "output_type": "stream",
          "name": "stderr",
          "text": [
            "100%|██████████| 12/12 [00:00<00:00, 238.96it/s]\n",
            "48it [00:00, 209.99it/s]\n"
          ]
        },
        {
          "output_type": "stream",
          "name": "stdout",
          "text": [
            "\rEpoch [96/100], Iter [48/48], Loss: 0.4500"
          ]
        },
        {
          "output_type": "stream",
          "name": "stderr",
          "text": [
            "100%|██████████| 12/12 [00:00<00:00, 214.81it/s]\n",
            "48it [00:00, 196.74it/s]\n"
          ]
        },
        {
          "output_type": "stream",
          "name": "stdout",
          "text": [
            "\rEpoch [97/100], Iter [48/48], Loss: 0.4569"
          ]
        },
        {
          "output_type": "stream",
          "name": "stderr",
          "text": [
            "100%|██████████| 12/12 [00:00<00:00, 233.86it/s]\n",
            "48it [00:00, 127.88it/s]\n"
          ]
        },
        {
          "output_type": "stream",
          "name": "stdout",
          "text": [
            "\rEpoch [98/100], Iter [48/48], Loss: 0.4519"
          ]
        },
        {
          "output_type": "stream",
          "name": "stderr",
          "text": [
            "100%|██████████| 12/12 [00:00<00:00, 243.72it/s]\n",
            "48it [00:00, 206.58it/s]\n"
          ]
        },
        {
          "output_type": "stream",
          "name": "stdout",
          "text": [
            "\rEpoch [99/100], Iter [48/48], Loss: 0.4684"
          ]
        },
        {
          "output_type": "stream",
          "name": "stderr",
          "text": [
            "100%|██████████| 12/12 [00:00<00:00, 214.43it/s]\n",
            "48it [00:00, 198.04it/s]\n"
          ]
        },
        {
          "output_type": "stream",
          "name": "stdout",
          "text": [
            "\rEpoch [100/100], Iter [48/48], Loss: 0.4877"
          ]
        },
        {
          "output_type": "stream",
          "name": "stderr",
          "text": [
            "100%|██████████| 12/12 [00:00<00:00, 216.62it/s]\n"
          ]
        }
      ],
      "source": [
        "classifier, criterion, optimizer = set_up_classifier()\n",
        "train_loader, test_loader = get_dataloader()\n",
        "\n",
        "loss_values = []\n",
        "accuracy_values = []\n",
        "y_true = []\n",
        "y_pred = []\n",
        "\n",
        "for epoch in range(NUM_EPOCHS):\n",
        "    for i, (data, labels) in tqdm(enumerate(train_loader)):\n",
        "    #for i, (data, labels) in enumerate(train_loader):\n",
        "        classifier.train() # This line set the neural network to train mode, some layers perform differently in train and test mode.\n",
        "\n",
        "        data = data.to(DEVICE).float()\n",
        "        #labels = labels.to(DEVICE)  # works for BCE loss\n",
        "        labels = labels.squeeze(1).to(DEVICE).long() # Cast labels to long\n",
        "\n",
        "        #Train the CNN classifier\n",
        "        outputs  = classifier(data)\n",
        "        #print(outputs.shape, labels.squeeze(1).shape)\n",
        "\n",
        "        # Calculate loss\n",
        "        loss = criterion(outputs, labels)\n",
        "\n",
        "        # Back-propagate loss to update gradient\n",
        "        loss.backward()\n",
        "\n",
        "        # Perform gradient descent to update parameters\n",
        "        optimizer.step()\n",
        "\n",
        "        # reset gradient to 0 on all parameters\n",
        "        optimizer.zero_grad()\n",
        "\n",
        "    #if epoch%5==0:\n",
        "    print('\\rEpoch [{0}/{1}], Iter [{2}/{3}], Loss: {4:.4f}'.format(\n",
        "        epoch+1, NUM_EPOCHS, i+1, len(train_loader),\n",
        "        loss.item(), end=\"\"),end=\"\")\n",
        "    loss_values.append(loss.item())\n",
        "\n",
        "    #After every epoch, evaluate the validation accuracy on the test loader\n",
        "    num_accurate = 0\n",
        "    num_data = 0\n",
        "    for data,labels in tqdm(test_loader):\n",
        "    #for data,labels in test_loader:\n",
        "\n",
        "        classifier.eval() # This line set the neural network to evaluation mode, some layers perform differently in train and test mode.\n",
        "\n",
        "        #While validating the network, we do not want it to produce any gradient. This will also save us time/memory\n",
        "        with torch.no_grad():\n",
        "\n",
        "            # Convey images to device, then feed it to the neural network for network output\n",
        "            data = data.to(DEVICE).float()\n",
        "            outputs  = classifier(data)\n",
        "\n",
        "            # Get classification decision by reading out the maximum value on the 10-dimensional vector\n",
        "            decision = torch.argmax(outputs, dim=-1)\n",
        "            decision = decision.cpu().data.numpy().flatten() # copy decision to CPU and convert it to a numpy array\n",
        "            labels = labels.cpu().data.numpy().flatten()\n",
        "\n",
        "            # Update the list of truth value and network predictions in last epoch:\n",
        "            if epoch == (NUM_EPOCHS-1):\n",
        "                y_true += list(labels)\n",
        "                y_pred += list(decision)\n",
        "\n",
        "            #Calculate accuracy by # of correct prediction / total numbers\n",
        "\n",
        "            num_accurate += np.sum((decision - labels) == 0)\n",
        "            num_data += len(decision)\n",
        "    accuracy_values.append(num_accurate/num_data)"
      ]
    },
    {
      "cell_type": "markdown",
      "metadata": {
        "id": "gdxxbsuEdLMz"
      },
      "source": [
        "# Visualizations"
      ]
    },
    {
      "cell_type": "code",
      "execution_count": null,
      "metadata": {
        "colab": {
          "base_uri": "https://localhost:8080/",
          "height": 436
        },
        "id": "DtfoxGQEqwEd",
        "outputId": "7cc0c720-81ab-4734-e73f-67be21e7365d"
      },
      "outputs": [
        {
          "output_type": "display_data",
          "data": {
            "text/plain": [
              "<Figure size 1300x400 with 2 Axes>"
            ],
            "image/png": "[encoded data removed]"
          },
          "metadata": {}
        }
      ],
      "source": [
        "# plotting\n",
        "fig, ax = plt.subplots(1, 2, figsize=(13, 4))\n",
        "\n",
        "fig.suptitle('Neural Network (FCNN) Validation Results', fontsize=18, fontweight='bold')\n",
        "fig.subplots_adjust(top=0.8)\n",
        "ax[0].plot(np.arange(NUM_EPOCHS).astype(int), loss_values)\n",
        "ax[0].set_title('Validation Loss History')\n",
        "ax[0].set_xlabel('Epoch no.')\n",
        "ax[0].set_ylabel('Loss')\n",
        "\n",
        "ax[1].plot(np.arange(NUM_EPOCHS).astype(int), np.array(accuracy_values))\n",
        "ax[1].set_title('Validation Accuracy History')\n",
        "ax[1].set_xlabel('Epoch no.')\n",
        "ax[1].set_ylabel('Accuracy')\n",
        "\n",
        "plt.show()"
      ]
    },
    {
      "cell_type": "code",
      "execution_count": null,
      "metadata": {
        "colab": {
          "base_uri": "https://localhost:8080/",
          "height": 748
        },
        "id": "TlP0xWPhqwEd",
        "outputId": "a994c6f3-60f0-4ba4-905c-29ae81cff022"
      },
      "outputs": [
        {
          "output_type": "display_data",
          "data": {
            "text/plain": [
              "<Figure size 960x720 with 1 Axes>"
            ],
            "image/png": "[encoded data removed]"
          },
          "metadata": {}
        }
      ],
      "source": [
        "fig = plt.figure(dpi=150)\n",
        "ax = plt.gca()\n",
        "RocCurveDisplay.from_predictions(y_true, y_pred, name=\"Classifier\", ax=ax)\n",
        "fig.suptitle('Reciever Operator Curve', fontsize=16, fontweight='bold')\n",
        "ax.set_title('Classifier Predictions', fontsize=13)\n",
        "ax.set_xlabel('False Positive Rate (Positive label: 1)', fontsize = 12)\n",
        "ax.set_ylabel('True Positive Rate (Positive label: 1)', fontsize=12)\n",
        "plt.show()"
      ]
    },
    {
      "cell_type": "code",
      "execution_count": null,
      "metadata": {
        "colab": {
          "base_uri": "https://localhost:8080/",
          "height": 672
        },
        "id": "3DGbBxxlADzg",
        "outputId": "8309791d-ef16-4252-af0c-254163f15862"
      },
      "outputs": [
        {
          "output_type": "stream",
          "name": "stdout",
          "text": [
            "Classification Report\n",
            "               precision    recall  f1-score   support\n",
            "\n",
            "         0.0       0.92      0.78      0.84      4687\n",
            "         1.0       0.49      0.76      0.60      1313\n",
            "\n",
            "    accuracy                           0.78      6000\n",
            "   macro avg       0.71      0.77      0.72      6000\n",
            "weighted avg       0.83      0.78      0.79      6000\n",
            "\n"
          ]
        },
        {
          "output_type": "display_data",
          "data": {
            "text/plain": [
              "<Figure size 800x500 with 2 Axes>"
            ],
            "image/png": "[encoded data removed]"
          },
          "metadata": {}
        }
      ],
      "source": [
        "# Classification Report and Confusion Matrix\n",
        "from sklearn.metrics import classification_report\n",
        "from sklearn.metrics import confusion_matrix\n",
        "\n",
        "print(\"Classification Report\\n\", classification_report(y_true, y_pred))\n",
        "\n",
        "cm = confusion_matrix(y_true, y_pred)\n",
        "\n",
        "plt.figure(figsize = (8, 5))\n",
        "sns.heatmap(cm, annot = True,\n",
        "            fmt = '.0f',\n",
        "            cmap='Blues')\n",
        "plt.ylabel('Actual')\n",
        "plt.xlabel('Predicted')\n",
        "plt.title('Confusion Matrix', fontsize=16)\n",
        "plt.show()"
      ]
    }
  ],
  "metadata": {
    "accelerator": "GPU",
    "colab": {
      "gpuType": "T4",
      "provenance": []
    },
    "kernelspec": {
      "display_name": "Python 3",
      "name": "python3"
    },
    "language_info": {
      "name": "python"
    }
  },
  "nbformat": 4,
  "nbformat_minor": 0
}